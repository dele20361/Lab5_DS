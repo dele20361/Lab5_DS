{
 "cells": [
  {
   "cell_type": "markdown",
   "metadata": {
    "tags": []
   },
   "source": [
    "# AutoCodificadores para la reducción de dimensionaliad"
   ]
  },
  {
   "cell_type": "code",
   "execution_count": 1,
   "metadata": {
    "tags": []
   },
   "outputs": [],
   "source": [
    "import numpy as np\n",
    "import pandas as pd\n",
    "import seaborn as sns\n",
    "import matplotlib.pyplot as plt\n",
    "import plotly.express as px "
   ]
  },
  {
   "cell_type": "markdown",
   "metadata": {},
   "source": [
    "### Obtención de datos\n",
    "\n",
    "En esta ocasión se usará el método **make_blobs** para generar datos correspondientes a dos clases"
   ]
  },
  {
   "cell_type": "code",
   "execution_count": 2,
   "metadata": {},
   "outputs": [],
   "source": [
    "from sklearn.datasets import make_blobs"
   ]
  },
  {
   "cell_type": "code",
   "execution_count": 3,
   "metadata": {},
   "outputs": [],
   "source": [
    "datos = make_blobs(n_samples = 300,  # Cuántas observaciones queremos\n",
    "    n_features = 2,                  # Cuántas variables queremos\n",
    "    centers = 2,                     # Cuántos grupos o clusters queremos\n",
    "    cluster_std = 1.0,               # Qué variabilidad queremos\n",
    "    random_state = 101)              # Para reproducibilidad"
   ]
  },
  {
   "cell_type": "code",
   "execution_count": 4,
   "metadata": {},
   "outputs": [
    {
     "data": {
      "text/plain": [
       "(array([[ -8.87772115,  -6.76007802],\n",
       "        [  0.630638  ,   3.10707466],\n",
       "        [ -0.24060881,   2.82068999],\n",
       "        [ -7.83909113,  -8.20754485],\n",
       "        [-10.9729082 ,  -7.39067645],\n",
       "        [-10.81648852,  -5.82372891],\n",
       "        [  0.96977807,   0.50825184],\n",
       "        [-10.29728144,  -7.21832357],\n",
       "        [  0.04271579,   3.50389089],\n",
       "        [  0.15391601,   2.19349145],\n",
       "        [ -9.81008003,  -5.35480445],\n",
       "        [-11.18334003,  -6.7004804 ],\n",
       "        [  0.51876688,   3.39210906],\n",
       "        [ -8.09111654,  -6.92631627],\n",
       "        [  1.1112886 ,   0.704398  ],\n",
       "        [ -7.49469451,  -7.06186612],\n",
       "        [ -0.75249891,   2.31574949],\n",
       "        [  0.72046137,   1.63484242],\n",
       "        [ -0.80867204,   1.41371822],\n",
       "        [  1.13010192,  -0.25418504],\n",
       "        [-10.6252148 ,  -6.71479817],\n",
       "        [ -0.06311641,   3.15682868],\n",
       "        [  0.56609951,   3.41000402],\n",
       "        [ -9.10474956,  -7.83047821],\n",
       "        [-11.33926304,  -7.83622233],\n",
       "        [  0.29639341,   2.06317757],\n",
       "        [ -0.52722349,   2.95534215],\n",
       "        [  1.19213743,  -0.14757971],\n",
       "        [ -9.62621816,  -7.22168634],\n",
       "        [-10.73883002,  -7.25875757],\n",
       "        [-10.32119803,  -9.35353346],\n",
       "        [ -7.99924137,  -8.05646528],\n",
       "        [  1.3167454 ,   1.92718447],\n",
       "        [  1.235942  ,   1.91717749],\n",
       "        [-11.58042665,  -7.03632662],\n",
       "        [ -8.39330399,  -5.82759078],\n",
       "        [ -0.52688735,   3.01616727],\n",
       "        [  2.07998698,   2.10889846],\n",
       "        [ -0.65480344,   3.64490698],\n",
       "        [ -0.75314572,   1.41299678],\n",
       "        [  0.50598165,   0.78654633],\n",
       "        [ -8.80248439,  -5.92330182],\n",
       "        [  0.91481985,  -0.20799609],\n",
       "        [ -7.89383228,  -8.46409884],\n",
       "        [  2.35751674,   0.36699335],\n",
       "        [-10.71183576,  -5.29283543],\n",
       "        [-10.44988952,  -7.81291822],\n",
       "        [ -9.39692509,  -6.78977481],\n",
       "        [ -9.30442973,  -6.10352273],\n",
       "        [ -8.23549021,  -7.28459234],\n",
       "        [-10.59156852,  -6.23029095],\n",
       "        [ -9.31593459,  -6.93805437],\n",
       "        [  0.10809101,   1.70614687],\n",
       "        [ -2.40902204,   2.93591385],\n",
       "        [  0.0760756 ,   0.83523148],\n",
       "        [  1.61820248,  -0.06496763],\n",
       "        [  0.28229607,   1.42577273],\n",
       "        [  0.51509708,   0.68050659],\n",
       "        [ -9.5717817 ,  -6.48403807],\n",
       "        [ -0.43795752,   2.37565091],\n",
       "        [-11.98317573,  -6.60149385],\n",
       "        [-10.82367962,  -7.33755457],\n",
       "        [ -9.39684712,  -6.69438788],\n",
       "        [  0.29681207,   3.35328405],\n",
       "        [  0.48163339,   1.58098998],\n",
       "        [  1.16232708,   1.27291991],\n",
       "        [ -8.95896588,  -5.6190734 ],\n",
       "        [ -8.84944516,  -6.96276619],\n",
       "        [-10.11243638,  -7.97378661],\n",
       "        [-10.93155671,  -5.51120995],\n",
       "        [ -9.73898718,  -7.41163337],\n",
       "        [ -0.14078373,   2.27344877],\n",
       "        [ -9.78117963,  -5.02182471],\n",
       "        [ -8.41536188,  -5.47779112],\n",
       "        [ -8.16046606,  -7.94332984],\n",
       "        [ -1.08115313,   2.28425875],\n",
       "        [  0.67151174,   1.60962705],\n",
       "        [ -9.76265363,  -5.44991827],\n",
       "        [  1.19156816,   0.33676123],\n",
       "        [ -0.05213095,  -0.25270744],\n",
       "        [ -6.81084785,  -7.63414012],\n",
       "        [ -0.60062972,   3.1293019 ],\n",
       "        [ -0.60023228,   2.26025564],\n",
       "        [  1.45799061,   2.31114805],\n",
       "        [  0.3694325 ,   1.00229633],\n",
       "        [ -7.57554831,  -6.06731654],\n",
       "        [  0.12218026,   3.90734192],\n",
       "        [  0.9790905 ,   1.09403369],\n",
       "        [ -9.07236429,  -6.54867191],\n",
       "        [ -0.66529095,   1.61015124],\n",
       "        [ -1.69019569,   2.15347379],\n",
       "        [ -8.17757184,  -7.61791421],\n",
       "        [ -7.63152559,  -7.88242054],\n",
       "        [ -9.28847447,  -7.20826784],\n",
       "        [ -9.30054381,  -6.12642497],\n",
       "        [ -9.70122859,  -8.70560211],\n",
       "        [ -0.11790023,   2.0992255 ],\n",
       "        [  0.1726968 ,   0.40012372],\n",
       "        [ -0.52010443,   2.01931709],\n",
       "        [  0.71400287,   3.49737027],\n",
       "        [ -0.44335605,   1.52382915],\n",
       "        [ -8.23921069,  -6.22893276],\n",
       "        [-10.24742172,  -6.44728027],\n",
       "        [ -1.22169855,   1.84860466],\n",
       "        [ -0.64342001,  -0.10898114],\n",
       "        [ -9.11722593,  -6.63809525],\n",
       "        [  0.47499933,   0.9339037 ],\n",
       "        [-10.34815334,  -6.3060237 ],\n",
       "        [-11.22326257,  -5.11513693],\n",
       "        [  0.65883817,   0.35030284],\n",
       "        [  0.72143331,   0.7828451 ],\n",
       "        [  0.56496818,   1.61413221],\n",
       "        [ -7.66038087,  -7.06255368],\n",
       "        [ -9.96031582,  -7.59431349],\n",
       "        [ -8.02332663,  -6.50859607],\n",
       "        [ -8.4903952 ,  -5.82334566],\n",
       "        [ -9.41699606,  -8.72605453],\n",
       "        [-11.76774331,  -4.54894721],\n",
       "        [  0.04846234,   2.47606215],\n",
       "        [ -0.20449797,   3.53107912],\n",
       "        [-10.37573979,  -5.94329439],\n",
       "        [ -8.62468102,  -6.60627864],\n",
       "        [ -8.09247891,  -7.13067729],\n",
       "        [ -8.2983458 ,  -7.48778848],\n",
       "        [ -9.92543294,  -6.4977969 ],\n",
       "        [ -9.56632798,  -7.28023388],\n",
       "        [ -8.99020917,  -5.98870269],\n",
       "        [  0.59417933,   1.8259319 ],\n",
       "        [ -1.05494754,   2.89584723],\n",
       "        [  0.85678605,   0.8243512 ],\n",
       "        [  1.93475242,   0.29764177],\n",
       "        [ -9.64477346,  -6.24457115],\n",
       "        [ -8.9711724 ,  -5.98405419],\n",
       "        [ -9.61919892,  -5.27454367],\n",
       "        [ -8.42319134,  -6.23978322],\n",
       "        [-10.00360848,  -6.90451659],\n",
       "        [  0.54220675,   1.17284179],\n",
       "        [  0.42160054,   2.65416435],\n",
       "        [ -9.79719667,  -5.9802305 ],\n",
       "        [ -9.61241916,  -7.17280234],\n",
       "        [ -9.48171833,  -7.0086949 ],\n",
       "        [ -9.9745944 ,  -6.9050362 ],\n",
       "        [-11.14547808,  -5.21952108],\n",
       "        [ -8.07915865,  -6.33981252],\n",
       "        [  1.05699629,   0.55026047],\n",
       "        [  0.44711752,   2.07906632],\n",
       "        [ -8.07870843,  -6.312384  ],\n",
       "        [-10.85727399,  -5.30909143],\n",
       "        [  0.20259175,   0.46776361],\n",
       "        [ -0.40149378,   0.69324199],\n",
       "        [ -9.12346959,  -6.03963994],\n",
       "        [-12.01677557,  -7.23176081],\n",
       "        [  0.02953681,   1.44249321],\n",
       "        [ -8.56686995,  -7.29630753],\n",
       "        [  0.93682985,   1.69982473],\n",
       "        [  0.88674196,   2.43816202],\n",
       "        [ -7.34539957,  -6.86138854],\n",
       "        [  0.48975374,   2.24638106],\n",
       "        [  2.93393983,   2.09686062],\n",
       "        [ -0.16913147,   0.65928204],\n",
       "        [ -8.26421087,  -5.31861361],\n",
       "        [ -0.05528558,   1.00403325],\n",
       "        [ -9.8226286 ,  -6.81716272],\n",
       "        [ -7.68199242,  -7.27158294],\n",
       "        [  0.19606642,   0.07826   ],\n",
       "        [  0.21119924,   3.31510653],\n",
       "        [ -0.61543385,   1.89810338],\n",
       "        [ -9.08641281,  -6.29099203],\n",
       "        [  0.51345154,   0.41933345],\n",
       "        [ -8.88635623,  -5.87127114],\n",
       "        [ -8.40487788,  -7.01194048],\n",
       "        [  3.11298222,   2.9371022 ],\n",
       "        [  0.9771203 ,   1.77229226],\n",
       "        [  0.16543782,   1.89916047],\n",
       "        [  1.35395671,   1.25675383],\n",
       "        [ -8.48927068,  -6.57787835],\n",
       "        [ -1.72459037,   1.24670562],\n",
       "        [  1.30369223,   1.02511304],\n",
       "        [-11.02968613,  -8.63840323],\n",
       "        [ -0.47487062,   1.15987235],\n",
       "        [ -9.44649023,  -8.00269747],\n",
       "        [ -7.60405526,  -6.85696333],\n",
       "        [  2.482819  ,   0.80309288],\n",
       "        [-10.28881968,  -6.79177712],\n",
       "        [ -0.67721436,   0.67156203],\n",
       "        [ -7.25437201,  -6.58042908],\n",
       "        [ -6.82927538,  -7.18211884],\n",
       "        [  0.96675957,   1.74299804],\n",
       "        [ -8.78538309,  -6.86720396],\n",
       "        [  1.00918185,   2.44847681],\n",
       "        [ -9.83153225,  -8.34903729],\n",
       "        [ -8.36709883,  -7.1696073 ],\n",
       "        [-10.8123662 ,  -6.04097554],\n",
       "        [ -9.23958906,  -6.65641296],\n",
       "        [  0.63360407,   1.65652935],\n",
       "        [  0.735559  ,   2.22119448],\n",
       "        [-10.80547193,  -7.69302899],\n",
       "        [ -0.21928733,   1.91007869],\n",
       "        [ -9.01310364,  -5.29629752],\n",
       "        [  0.65581729,   2.08783692],\n",
       "        [ -0.04854612,   1.64368808],\n",
       "        [ -7.87938969,  -5.32691831],\n",
       "        [  0.38163401,  -0.70176136],\n",
       "        [ -1.057406  ,   0.08369168],\n",
       "        [ -1.09297692,   1.73501132],\n",
       "        [ -7.67679391,  -8.13571089],\n",
       "        [ -0.71880698,   2.70611631],\n",
       "        [ -0.7016046 ,  -0.1115038 ],\n",
       "        [-11.31432419,  -7.88370905],\n",
       "        [ -8.28774031,  -5.89065074],\n",
       "        [-10.38922009,  -7.05397478],\n",
       "        [-10.00222699,  -5.14611893],\n",
       "        [ -1.3503111 ,   1.74732484],\n",
       "        [ -9.1989063 ,  -6.41415498],\n",
       "        [ -9.50262624,  -5.27702187],\n",
       "        [ -9.8830218 ,  -6.84570552],\n",
       "        [ -0.06318407,   2.4416449 ],\n",
       "        [  1.28943071,  -0.72786055],\n",
       "        [  0.19313183,   1.80387958],\n",
       "        [ -1.06354651,   1.56083821],\n",
       "        [ -1.37811338,   0.25423232],\n",
       "        [ -9.80837696,  -4.61414699],\n",
       "        [ -7.60426107,  -7.54351233],\n",
       "        [  1.08209399,   0.64131109],\n",
       "        [  1.46167554,   1.94153847],\n",
       "        [-10.21650206,  -5.58839743],\n",
       "        [ -7.53837871,  -7.26742566],\n",
       "        [  1.04876015,   0.1902697 ],\n",
       "        [  1.91378495,   2.34300958],\n",
       "        [  1.12210106,   2.77306371],\n",
       "        [ -9.73695057,  -5.70781271],\n",
       "        [  0.52549654,   3.716339  ],\n",
       "        [ -2.40849189,   0.42819888],\n",
       "        [-10.26167723,  -7.06350819],\n",
       "        [ -1.13954147,   0.91925638],\n",
       "        [-10.22919552,  -6.75887645],\n",
       "        [  1.3320287 ,   2.4452676 ],\n",
       "        [  1.23079841,   0.87544258],\n",
       "        [ -0.60526466,   2.36840825],\n",
       "        [ -8.35959311,  -6.63048168],\n",
       "        [  1.00550767,   1.43945722],\n",
       "        [ -1.64463255,   0.5464667 ],\n",
       "        [  2.49339367,   0.14611156],\n",
       "        [ -9.1658831 ,  -6.4088818 ],\n",
       "        [ -9.40588794,  -7.77241687],\n",
       "        [ -0.22290345,   2.35539671],\n",
       "        [  0.49487719,   1.5978536 ],\n",
       "        [ -7.92076846,  -6.39488367],\n",
       "        [ -8.91917163,  -6.42494809],\n",
       "        [  0.4186713 ,   2.73506708],\n",
       "        [  1.13567847,   1.48631141],\n",
       "        [  1.21700344,  -0.42590913],\n",
       "        [ -0.75946334,  -1.15441518],\n",
       "        [  0.29354092,   2.10176016],\n",
       "        [-10.12252545,  -5.94626122],\n",
       "        [ -7.76150458,  -5.08941917],\n",
       "        [ -1.07031712,   1.19404102],\n",
       "        [  0.40949591,   0.99816062],\n",
       "        [ -0.76972047,  -0.49465708],\n",
       "        [-10.72150736,  -6.57844318],\n",
       "        [-10.28821176,  -6.94306206],\n",
       "        [ -0.5979017 ,   3.27621588],\n",
       "        [ -7.51030629,  -4.8323603 ],\n",
       "        [ -9.15368985,  -7.12310178],\n",
       "        [ -9.45320712,  -6.53809263],\n",
       "        [ -9.07174359,  -5.43518899],\n",
       "        [  1.58787624,   0.96545339],\n",
       "        [-10.21411452,  -7.95238194],\n",
       "        [ -6.54226773,  -6.2646095 ],\n",
       "        [ -8.5099903 ,  -5.22042935],\n",
       "        [ -0.80584461,   2.02382964],\n",
       "        [  0.98900175,   1.08043094],\n",
       "        [ -7.99134003,  -6.91886216],\n",
       "        [ -0.25241043,   2.62237902],\n",
       "        [ -8.67477327,  -4.81144513],\n",
       "        [ -8.90887229,  -7.91161069],\n",
       "        [ -8.36198905,  -9.3268063 ],\n",
       "        [  0.5580596 ,   2.03200973],\n",
       "        [ -0.6473768 ,   0.35850114],\n",
       "        [ -0.97850975,  -0.21957226],\n",
       "        [ -0.47667896,   1.66689978],\n",
       "        [-10.1169817 ,  -7.53902671],\n",
       "        [  0.23867411,   2.11191814],\n",
       "        [ -8.3309652 ,  -7.59506607],\n",
       "        [ -8.96708797,  -8.77600892],\n",
       "        [ -0.90764171,   0.61492378],\n",
       "        [ -0.42735279,   1.06693323],\n",
       "        [-10.66457298,  -7.51508983],\n",
       "        [-10.50346327,  -6.92273129],\n",
       "        [  0.51666786,   0.65447968],\n",
       "        [ -9.12185695,  -7.50523758],\n",
       "        [ -8.69202216,  -6.27673617],\n",
       "        [  1.09994259,   1.70756836],\n",
       "        [ -9.43147933,  -6.43924461],\n",
       "        [  0.99429187,   0.87511711],\n",
       "        [  1.32054601,   2.60559237],\n",
       "        [ -8.04391612,  -6.01058931],\n",
       "        [ -9.73356644,  -7.46038047],\n",
       "        [-10.72207465,  -5.56856467],\n",
       "        [  1.52971658,   0.59288857]]),\n",
       " array([1, 0, 0, 1, 1, 1, 0, 1, 0, 0, 1, 1, 0, 1, 0, 1, 0, 0, 0, 0, 1, 0,\n",
       "        0, 1, 1, 0, 0, 0, 1, 1, 1, 1, 0, 0, 1, 1, 0, 0, 0, 0, 0, 1, 0, 1,\n",
       "        0, 1, 1, 1, 1, 1, 1, 1, 0, 0, 0, 0, 0, 0, 1, 0, 1, 1, 1, 0, 0, 0,\n",
       "        1, 1, 1, 1, 1, 0, 1, 1, 1, 0, 0, 1, 0, 0, 1, 0, 0, 0, 0, 1, 0, 0,\n",
       "        1, 0, 0, 1, 1, 1, 1, 1, 0, 0, 0, 0, 0, 1, 1, 0, 0, 1, 0, 1, 1, 0,\n",
       "        0, 0, 1, 1, 1, 1, 1, 1, 0, 0, 1, 1, 1, 1, 1, 1, 1, 0, 0, 0, 0, 1,\n",
       "        1, 1, 1, 1, 0, 0, 1, 1, 1, 1, 1, 1, 0, 0, 1, 1, 0, 0, 1, 1, 0, 1,\n",
       "        0, 0, 1, 0, 0, 0, 1, 0, 1, 1, 0, 0, 0, 1, 0, 1, 1, 0, 0, 0, 0, 1,\n",
       "        0, 0, 1, 0, 1, 1, 0, 1, 0, 1, 1, 0, 1, 0, 1, 1, 1, 1, 0, 0, 1, 0,\n",
       "        1, 0, 0, 1, 0, 0, 0, 1, 0, 0, 1, 1, 1, 1, 0, 1, 1, 1, 0, 0, 0, 0,\n",
       "        0, 1, 1, 0, 0, 1, 1, 0, 0, 0, 1, 0, 0, 1, 0, 1, 0, 0, 0, 1, 0, 0,\n",
       "        0, 1, 1, 0, 0, 1, 1, 0, 0, 0, 0, 0, 1, 1, 0, 0, 0, 1, 1, 0, 1, 1,\n",
       "        1, 1, 0, 1, 1, 1, 0, 0, 1, 0, 1, 1, 1, 0, 0, 0, 0, 1, 0, 1, 1, 0,\n",
       "        0, 1, 1, 0, 1, 1, 0, 1, 0, 0, 1, 1, 1, 0]))"
      ]
     },
     "execution_count": 4,
     "metadata": {},
     "output_type": "execute_result"
    }
   ],
   "source": [
    "datos"
   ]
  },
  {
   "cell_type": "code",
   "execution_count": 5,
   "metadata": {},
   "outputs": [],
   "source": [
    "X, y = datos"
   ]
  },
  {
   "cell_type": "markdown",
   "metadata": {},
   "source": [
    "### Para hacerlo un poco más interesante, se agrega \"ruido\" a los datos\n",
    "\n",
    "#### Se generan"
   ]
  },
  {
   "cell_type": "code",
   "execution_count": 6,
   "metadata": {},
   "outputs": [],
   "source": [
    "np.random.seed(seed = 101)\n",
    "z_ruido = np.random.normal(size = len(X))\n",
    "z_ruido = pd.Series(z_ruido)"
   ]
  },
  {
   "cell_type": "markdown",
   "metadata": {},
   "source": [
    "#### Se agrega el ruido a los datos (features)"
   ]
  },
  {
   "cell_type": "code",
   "execution_count": 7,
   "metadata": {},
   "outputs": [],
   "source": [
    "features = pd.DataFrame(X)\n",
    "features = pd.concat([features, z_ruido],\n",
    "                     axis = 1)\n",
    "features.columns = ['X1', 'X2', 'X3']"
   ]
  },
  {
   "cell_type": "code",
   "execution_count": 8,
   "metadata": {},
   "outputs": [
    {
     "data": {
      "text/html": [
       "<div>\n",
       "<style scoped>\n",
       "    .dataframe tbody tr th:only-of-type {\n",
       "        vertical-align: middle;\n",
       "    }\n",
       "\n",
       "    .dataframe tbody tr th {\n",
       "        vertical-align: top;\n",
       "    }\n",
       "\n",
       "    .dataframe thead th {\n",
       "        text-align: right;\n",
       "    }\n",
       "</style>\n",
       "<table border=\"1\" class=\"dataframe\">\n",
       "  <thead>\n",
       "    <tr style=\"text-align: right;\">\n",
       "      <th></th>\n",
       "      <th>X1</th>\n",
       "      <th>X2</th>\n",
       "      <th>X3</th>\n",
       "    </tr>\n",
       "  </thead>\n",
       "  <tbody>\n",
       "    <tr>\n",
       "      <th>0</th>\n",
       "      <td>-8.877721</td>\n",
       "      <td>-6.760078</td>\n",
       "      <td>2.706850</td>\n",
       "    </tr>\n",
       "    <tr>\n",
       "      <th>1</th>\n",
       "      <td>0.630638</td>\n",
       "      <td>3.107075</td>\n",
       "      <td>0.628133</td>\n",
       "    </tr>\n",
       "    <tr>\n",
       "      <th>2</th>\n",
       "      <td>-0.240609</td>\n",
       "      <td>2.820690</td>\n",
       "      <td>0.907969</td>\n",
       "    </tr>\n",
       "    <tr>\n",
       "      <th>3</th>\n",
       "      <td>-7.839091</td>\n",
       "      <td>-8.207545</td>\n",
       "      <td>0.503826</td>\n",
       "    </tr>\n",
       "    <tr>\n",
       "      <th>4</th>\n",
       "      <td>-10.972908</td>\n",
       "      <td>-7.390676</td>\n",
       "      <td>0.651118</td>\n",
       "    </tr>\n",
       "  </tbody>\n",
       "</table>\n",
       "</div>"
      ],
      "text/plain": [
       "          X1        X2        X3\n",
       "0  -8.877721 -6.760078  2.706850\n",
       "1   0.630638  3.107075  0.628133\n",
       "2  -0.240609  2.820690  0.907969\n",
       "3  -7.839091 -8.207545  0.503826\n",
       "4 -10.972908 -7.390676  0.651118"
      ]
     },
     "execution_count": 8,
     "metadata": {},
     "output_type": "execute_result"
    }
   ],
   "source": [
    "features.head()"
   ]
  },
  {
   "cell_type": "markdown",
   "metadata": {},
   "source": [
    "### Visualización de los datos"
   ]
  },
  {
   "cell_type": "code",
   "execution_count": 9,
   "metadata": {},
   "outputs": [
    {
     "data": {
      "text/plain": [
       "<matplotlib.collections.PathCollection at 0x137089f90>"
      ]
     },
     "execution_count": 9,
     "metadata": {},
     "output_type": "execute_result"
    },
    {
     "data": {
      "image/png": "[encoded data removed]",
      "text/plain": [
       "<Figure size 640x480 with 1 Axes>"
      ]
     },
     "metadata": {},
     "output_type": "display_data"
    }
   ],
   "source": [
    "# Utilizando MatPlotLib\n",
    "plt.scatter(features['X1'], \n",
    "            features['X2'],\n",
    "            c = y) # Usar la y para color"
   ]
  },
  {
   "cell_type": "code",
   "execution_count": 10,
   "metadata": {},
   "outputs": [
    {
     "ename": "ValueError",
     "evalue": "Mime type rendering requires nbformat>=4.2.0 but it is not installed",
     "output_type": "error",
     "traceback": [
      "\u001b[0;31m---------------------------------------------------------------------------\u001b[0m",
      "\u001b[0;31mValueError\u001b[0m                                Traceback (most recent call last)",
      "Cell \u001b[0;32mIn[10], line 7\u001b[0m\n\u001b[1;32m      1\u001b[0m \u001b[38;5;66;03m# Utilizando Plotly Express\u001b[39;00m\n\u001b[1;32m      2\u001b[0m fig \u001b[38;5;241m=\u001b[39m px\u001b[38;5;241m.\u001b[39mscatter(x \u001b[38;5;241m=\u001b[39m features[\u001b[38;5;124m'\u001b[39m\u001b[38;5;124mX1\u001b[39m\u001b[38;5;124m'\u001b[39m], \n\u001b[1;32m      3\u001b[0m                  y \u001b[38;5;241m=\u001b[39m features[\u001b[38;5;124m'\u001b[39m\u001b[38;5;124mX2\u001b[39m\u001b[38;5;124m'\u001b[39m], \n\u001b[1;32m      4\u001b[0m                  color \u001b[38;5;241m=\u001b[39m y,\n\u001b[1;32m      5\u001b[0m                  width \u001b[38;5;241m=\u001b[39m \u001b[38;5;241m600\u001b[39m,\n\u001b[1;32m      6\u001b[0m                  height \u001b[38;5;241m=\u001b[39m \u001b[38;5;241m500\u001b[39m)\n\u001b[0;32m----> 7\u001b[0m \u001b[43mfig\u001b[49m\u001b[38;5;241;43m.\u001b[39;49m\u001b[43mshow\u001b[49m\u001b[43m(\u001b[49m\u001b[43m)\u001b[49m\n",
      "File \u001b[0;32m~/Library/Python/3.10/lib/python/site-packages/plotly/basedatatypes.py:3390\u001b[0m, in \u001b[0;36mBaseFigure.show\u001b[0;34m(self, *args, **kwargs)\u001b[0m\n\u001b[1;32m   <a href='file:///~/Library/Python/3.10/lib/python/site-packages/plotly/basedatatypes.py?line=3356'>3357</a>\u001b[0m \u001b[39m\u001b[39m\u001b[39m\"\"\"\u001b[39;00m\n\u001b[1;32m   <a href='file:///~/Library/Python/3.10/lib/python/site-packages/plotly/basedatatypes.py?line=3357'>3358</a>\u001b[0m \u001b[39mShow a figure using either the default renderer(s) or the renderer(s)\u001b[39;00m\n\u001b[1;32m   <a href='file:///~/Library/Python/3.10/lib/python/site-packages/plotly/basedatatypes.py?line=3358'>3359</a>\u001b[0m \u001b[39mspecified by the renderer argument\u001b[39;00m\n\u001b[0;32m   (...)\u001b[0m\n\u001b[1;32m   <a href='file:///~/Library/Python/3.10/lib/python/site-packages/plotly/basedatatypes.py?line=3385'>3386</a>\u001b[0m \u001b[39mNone\u001b[39;00m\n\u001b[1;32m   <a href='file:///~/Library/Python/3.10/lib/python/site-packages/plotly/basedatatypes.py?line=3386'>3387</a>\u001b[0m \u001b[39m\"\"\"\u001b[39;00m\n\u001b[1;32m   <a href='file:///~/Library/Python/3.10/lib/python/site-packages/plotly/basedatatypes.py?line=3387'>3388</a>\u001b[0m \u001b[39mimport\u001b[39;00m \u001b[39mplotly\u001b[39;00m\u001b[39m.\u001b[39;00m\u001b[39mio\u001b[39;00m \u001b[39mas\u001b[39;00m \u001b[39mpio\u001b[39;00m\n\u001b[0;32m-> <a href='file:///~/Library/Python/3.10/lib/python/site-packages/plotly/basedatatypes.py?line=3389'>3390</a>\u001b[0m \u001b[39mreturn\u001b[39;00m pio\u001b[39m.\u001b[39;49mshow(\u001b[39mself\u001b[39;49m, \u001b[39m*\u001b[39;49margs, \u001b[39m*\u001b[39;49m\u001b[39m*\u001b[39;49mkwargs)\n",
      "File \u001b[0;32m~/Library/Python/3.10/lib/python/site-packages/plotly/io/_renderers.py:396\u001b[0m, in \u001b[0;36mshow\u001b[0;34m(fig, renderer, validate, **kwargs)\u001b[0m\n\u001b[1;32m    <a href='file:///~/Library/Python/3.10/lib/python/site-packages/plotly/io/_renderers.py?line=390'>391</a>\u001b[0m         \u001b[39mraise\u001b[39;00m \u001b[39mValueError\u001b[39;00m(\n\u001b[1;32m    <a href='file:///~/Library/Python/3.10/lib/python/site-packages/plotly/io/_renderers.py?line=391'>392</a>\u001b[0m             \u001b[39m\"\u001b[39m\u001b[39mMime type rendering requires ipython but it is not installed\u001b[39m\u001b[39m\"\u001b[39m\n\u001b[1;32m    <a href='file:///~/Library/Python/3.10/lib/python/site-packages/plotly/io/_renderers.py?line=392'>393</a>\u001b[0m         )\n\u001b[1;32m    <a href='file:///~/Library/Python/3.10/lib/python/site-packages/plotly/io/_renderers.py?line=394'>395</a>\u001b[0m     \u001b[39mif\u001b[39;00m \u001b[39mnot\u001b[39;00m nbformat \u001b[39mor\u001b[39;00m Version(nbformat\u001b[39m.\u001b[39m__version__) \u001b[39m<\u001b[39m Version(\u001b[39m\"\u001b[39m\u001b[39m4.2.0\u001b[39m\u001b[39m\"\u001b[39m):\n\u001b[0;32m--> <a href='file:///~/Library/Python/3.10/lib/python/site-packages/plotly/io/_renderers.py?line=395'>396</a>\u001b[0m         \u001b[39mraise\u001b[39;00m \u001b[39mValueError\u001b[39;00m(\n\u001b[1;32m    <a href='file:///~/Library/Python/3.10/lib/python/site-packages/plotly/io/_renderers.py?line=396'>397</a>\u001b[0m             \u001b[39m\"\u001b[39m\u001b[39mMime type rendering requires nbformat>=4.2.0 but it is not installed\u001b[39m\u001b[39m\"\u001b[39m\n\u001b[1;32m    <a href='file:///~/Library/Python/3.10/lib/python/site-packages/plotly/io/_renderers.py?line=397'>398</a>\u001b[0m         )\n\u001b[1;32m    <a href='file:///~/Library/Python/3.10/lib/python/site-packages/plotly/io/_renderers.py?line=399'>400</a>\u001b[0m     ipython_display\u001b[39m.\u001b[39mdisplay(bundle, raw\u001b[39m=\u001b[39m\u001b[39mTrue\u001b[39;00m)\n\u001b[1;32m    <a href='file:///~/Library/Python/3.10/lib/python/site-packages/plotly/io/_renderers.py?line=401'>402</a>\u001b[0m \u001b[39m# external renderers\u001b[39;00m\n",
      "\u001b[0;31mValueError\u001b[0m: Mime type rendering requires nbformat>=4.2.0 but it is not installed"
     ]
    }
   ],
   "source": [
    "# Utilizando Plotly Express\n",
    "fig = px.scatter(x = features['X1'], \n",
    "                 y = features['X2'], \n",
    "                 color = y,\n",
    "                 width = 600,\n",
    "                 height = 500)\n",
    "fig.show()"
   ]
  },
  {
   "cell_type": "markdown",
   "metadata": {},
   "source": [
    "### Para graficar con MatPlotLib en 3-D\n",
    "\n",
    "https://matplotlib.org/mpl_toolkits/mplot3d/tutorial.html#scatter-plots"
   ]
  },
  {
   "cell_type": "code",
   "execution_count": null,
   "metadata": {
    "tags": []
   },
   "outputs": [],
   "source": [
    "from mpl_toolkits.mplot3d import Axes3D"
   ]
  },
  {
   "cell_type": "code",
   "execution_count": null,
   "metadata": {},
   "outputs": [],
   "source": [
    "# Si se tiene la última versión de Jupyter NB\n",
    "#%matplotlib notebook\n",
    "\n",
    "%matplotlib inline"
   ]
  },
  {
   "cell_type": "code",
   "execution_count": null,
   "metadata": {},
   "outputs": [],
   "source": [
    "fig = plt.figure()\n",
    "ax = fig.add_subplot(111, projection='3d')\n",
    "ax.scatter(features['X1'],\n",
    "           features['X2'],\n",
    "           features['X3'],\n",
    "           c = y)"
   ]
  },
  {
   "cell_type": "markdown",
   "metadata": {},
   "source": [
    "### 3D con Plotly Express\n",
    "\n",
    "Si se gira para visualizar bien los dos clusters, se vé que el ruido (z) no discrimina los dos grupos, más o menos tiene el mismo rango"
   ]
  },
  {
   "cell_type": "code",
   "execution_count": null,
   "metadata": {
    "tags": []
   },
   "outputs": [],
   "source": [
    "fig = px.scatter_3d(x = features['X1'], \n",
    "                    y = features['X2'], \n",
    "                    z = features['X3'],\n",
    "                    color = y,\n",
    "                    width = 600, height = 500)\n",
    "fig.show()"
   ]
  },
  {
   "cell_type": "markdown",
   "metadata": {
    "tags": []
   },
   "source": [
    "# Codificador y Decodificador"
   ]
  },
  {
   "cell_type": "code",
   "execution_count": null,
   "metadata": {
    "tags": []
   },
   "outputs": [],
   "source": [
    "from tensorflow.keras.models import Sequential\n",
    "from tensorflow.keras.layers import Dense"
   ]
  },
  {
   "cell_type": "code",
   "execution_count": null,
   "metadata": {},
   "outputs": [],
   "source": [
    "# 3 --> 2\n",
    "codificador = Sequential()\n",
    "codificador.add(Dense(units = 2,\n",
    "                      activation = 'relu',\n",
    "                      input_shape = [3]))"
   ]
  },
  {
   "cell_type": "code",
   "execution_count": null,
   "metadata": {},
   "outputs": [],
   "source": [
    "# 2 ---> 3\n",
    "decodificador = Sequential()\n",
    "decodificador.add(Dense(units = 3,\n",
    "                        activation = 'relu',\n",
    "                        input_shape = [2]))"
   ]
  },
  {
   "cell_type": "markdown",
   "metadata": {},
   "source": [
    "### Ahora se crea el autocodificador completo\n",
    "\n",
    "#### Se utilizará el optimizador *Stochastic Gradient Descent* porque permite \"jugar\" con la tasa de aprendizaje *lr* (learning rate)"
   ]
  },
  {
   "cell_type": "code",
   "execution_count": null,
   "metadata": {},
   "outputs": [],
   "source": [
    "from tensorflow.keras.optimizers import SGD"
   ]
  },
  {
   "cell_type": "code",
   "execution_count": null,
   "metadata": {},
   "outputs": [],
   "source": [
    "# Autocodificador\n",
    "# 3 ---> 2 ----> 3\n",
    "autocodificador = Sequential([codificador,\n",
    "                              decodificador])"
   ]
  },
  {
   "cell_type": "markdown",
   "metadata": {},
   "source": [
    "### Compilación del Autocodificador"
   ]
  },
  {
   "cell_type": "code",
   "execution_count": null,
   "metadata": {
    "tags": []
   },
   "outputs": [],
   "source": [
    "autocodificador.compile(loss = \"mse\",\n",
    "                        optimizer = SGD(lr = 1.5))"
   ]
  },
  {
   "cell_type": "markdown",
   "metadata": {},
   "source": [
    "### Normalización de los datos\n",
    "\n",
    "#### Nota:  se usarán todos los datos!  No tiene sentido usar datos de entrenamiento y de prueba ya que no hay una respuesta correcta en esto."
   ]
  },
  {
   "cell_type": "code",
   "execution_count": null,
   "metadata": {},
   "outputs": [],
   "source": [
    "from sklearn.preprocessing import MinMaxScaler"
   ]
  },
  {
   "cell_type": "code",
   "execution_count": null,
   "metadata": {
    "tags": []
   },
   "outputs": [],
   "source": [
    "normalizador = MinMaxScaler()\n",
    "datos_normalizados = normalizador.fit_transform(features)"
   ]
  },
  {
   "cell_type": "code",
   "execution_count": null,
   "metadata": {},
   "outputs": [],
   "source": [
    "datos_normalizados"
   ]
  },
  {
   "cell_type": "markdown",
   "metadata": {},
   "source": [
    "### Entrenamiento del Autocodificador\n",
    "\n",
    "#### Nota:  La entrada y la salida son lo mismo"
   ]
  },
  {
   "cell_type": "code",
   "execution_count": null,
   "metadata": {},
   "outputs": [],
   "source": [
    "autocodificador.fit(datos_normalizados,\n",
    "                    datos_normalizados,\n",
    "                    epochs = 5)"
   ]
  },
  {
   "cell_type": "markdown",
   "metadata": {},
   "source": [
    "### Si se quieren ver las dos dimensiones a las que redujo el codificador"
   ]
  },
  {
   "cell_type": "code",
   "execution_count": null,
   "metadata": {},
   "outputs": [],
   "source": [
    "codificado_2dim = codificador.predict(datos_normalizados)"
   ]
  },
  {
   "cell_type": "code",
   "execution_count": null,
   "metadata": {},
   "outputs": [],
   "source": [
    "codificado_2dim.shape"
   ]
  },
  {
   "cell_type": "code",
   "execution_count": null,
   "metadata": {},
   "outputs": [],
   "source": [
    "codificado_2dim"
   ]
  },
  {
   "cell_type": "code",
   "execution_count": null,
   "metadata": {},
   "outputs": [],
   "source": [
    "plt.scatter(codificado_2dim[:, 0],\n",
    "            codificado_2dim[:, 1],\n",
    "            c = y)"
   ]
  },
  {
   "cell_type": "code",
   "execution_count": null,
   "metadata": {},
   "outputs": [],
   "source": [
    "fig = px.scatter(x = codificado_2dim[:, 0], \n",
    "                 y = codificado_2dim[:, 1], \n",
    "                 color = y,\n",
    "                 width = 700,\n",
    "                 height = 500)\n",
    "fig.show()"
   ]
  },
  {
   "cell_type": "code",
   "execution_count": null,
   "metadata": {},
   "outputs": [],
   "source": []
  },
  {
   "cell_type": "code",
   "execution_count": null,
   "metadata": {},
   "outputs": [],
   "source": []
  }
 ],
 "metadata": {
  "kernelspec": {
   "display_name": "Python 3 (ipykernel)",
   "language": "python",
   "name": "python3"
  },
  "language_info": {
   "codemirror_mode": {
    "name": "ipython",
    "version": 3
   },
   "file_extension": ".py",
   "mimetype": "text/x-python",
   "name": "python",
   "nbconvert_exporter": "python",
   "pygments_lexer": "ipython3",
   "version": "3.10.2"
  }
 },
 "nbformat": 4,
 "nbformat_minor": 4
}
